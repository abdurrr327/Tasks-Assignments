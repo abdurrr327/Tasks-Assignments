{
  "nbformat": 4,
  "nbformat_minor": 0,
  "metadata": {
    "colab": {
      "provenance": []
    },
    "kernelspec": {
      "name": "python3",
      "display_name": "Python 3"
    },
    "language_info": {
      "name": "python"
    }
  },
  "cells": [
    {
      "cell_type": "markdown",
      "source": [
        "# **AF3005 – Programming for Finance**  \n",
        "\n",
        "---\n",
        "\n",
        "## **📘 Assignment 2: Financial App Development with Streamlit**  \n",
        "\n",
        "📍 **FAST National University of Computer and Emerging Sciences (FAST-NUCES), Islamabad**  \n",
        "👨‍🏫 **Instructor:** Dr. Usama Arshad (Assistant Professor, FSM)  \n",
        "🎓 **Program:** BS Financial Technology (BSFT)  \n",
        "📅 **Semester:** Spring 2025  \n",
        "📌 **Sections:** BSFT06A, BSFT06B, BSFT06C  \n",
        "\n",
        "---\n",
        "\n",
        "## **🎯 Course Learning Outcomes (CLOs)**\n",
        "- **CLO3:** Develop financial models and algorithms for decision-making. (PLO 3, PLO 5)\n",
        "- **CLO4:** Automate financial processes and calculations using Python programming. (PLO 4, PLO 5)\n",
        "- **CLO5:** Visualize and interpret financial data effectively using Python tools. (PLO 1, PLO 3)\n",
        "\n",
        "\n",
        "---\n",
        "\n",
        "\n",
        "\n",
        "\n",
        "\n",
        "\n",
        "\n",
        "\n",
        "\n",
        "\n",
        "\n"
      ],
      "metadata": {
        "id": "ipymcDu7AvBI"
      }
    },
    {
      "cell_type": "markdown",
      "source": [
        "# **🟢 Assignment 2: Financial App Development [20 marks]**  "
      ],
      "metadata": {
        "id": "xaohfzjxCwqe"
      }
    },
    {
      "cell_type": "markdown",
      "source": [
        "\n",
        "\n",
        "---\n",
        "\n",
        "\n",
        "## **📍 Task Description**\n",
        "Students will build a **unique, useful, or practical financial web app** using **Streamlit** and deploy it on **Streamlit Share**. The app must be interactive and handle **financial data**, but **no AI integration of anykind is required**. You can use any publically available financial data or use your own.\n",
        "\n",
        "---\n",
        "\n",
        "## **📍 Requirements**\n",
        "### **1️⃣ Creativity & Uniqueness** 🧠 (3 Marks)  \n",
        "   - The idea must be **unique, practical, or useful** in the financial domain.\n",
        "\n",
        "### **2️⃣ App Development with Streamlit** 🖥️ (8 Marks)  \n",
        "   - Use **Streamlit** to create an interactive financial app.\n",
        "   - The app should have:\n",
        "     - A **clear purpose** related to finance.\n",
        "     - **User input options** (sliders, dropdowns, forms, etc.).\n",
        "     - **Financial data visualization** (graphs, charts, tables).\n",
        "\n",
        "### **3️⃣ Deployment on Streamlit Share** 🌍 (3 Marks)  \n",
        "   - The app must be **hosted on Streamlit Cloud** and accessible via a public link.\n",
        "\n",
        "### **4️⃣ GitHub Repository & Documentation** 📂 (3 Marks)  \n",
        "   - Upload the **complete project on GitHub**.\n",
        "   - **README.md file must include:**\n",
        "     - **Course Name:** AF3005 – Programming for Finance  \n",
        "     - **Instructor Name:** Dr. Usama Arshad  \n",
        "     - **App Overview** (What does the app do?)  \n",
        "     - **Installation Guide** (How to run it locally?)  \n",
        "     - **Deployment Link** (Streamlit app URL)  \n",
        "     - **Screenshots or a small video demo**  \n",
        "     - **GitHub Repository Link**  \n",
        "\n",
        "### **5️⃣ LinkedIn Post** 🔗 (3 Marks)  \n",
        "   - Each student must post about their project on **LinkedIn** with:\n",
        "     - **Project Description**\n",
        "     - **GitHub Repository Link**\n",
        "     - **Streamlit App Link**\n",
        "     - **Course Name & Instructor Name**\n",
        "     - **A Small Video Showing How the App Works**\n",
        "   - Tag **Dr. Usama Arshad** and use relevant hashtags:  \n",
        "     `#FinTech #ProgrammingForFinance #Python #Streamlit #FinanceApps`\n",
        "\n",
        "---\n",
        "\n",
        "## **📍 Evaluation Criteria (Total: 20 Marks)**\n",
        "| Component                     | Marks |\n",
        "|--------------------------------|-------|\n",
        "| Creativity & Novelty          | 3     |\n",
        "| Proper App Functionality      | 8     |\n",
        "| Deployment on Streamlit       | 3     |\n",
        "| GitHub Repository & README    | 3     |\n",
        "| LinkedIn Post with Links & Video | 3     |\n",
        "| **Total**                     | **20** |\n",
        "\n",
        "---\n",
        "\n",
        "## **📍 Ideas for Financial Apps**\n",
        "Students can choose their own ideas, but here are some suggestions:\n",
        "- **Budget Tracker** 💰 (Track income & expenses)\n",
        "- **Stock Market Dashboard** 📈 (Real-time stock data visualization)\n",
        "- **Cryptocurrency Portfolio Tracker** 🪙\n",
        "- **Loan Calculator** 💳 (EMI calculation with interactive sliders)\n",
        "- **Savings Goal Planner** 🎯\n",
        "- **Investment Portfolio Analyzer** 📊\n",
        "- **Forex Exchange Rate Tracker** 💹\n",
        "- **Personal Finance Quiz App** 🧠 (Interactive quizzes on financial literacy)\n",
        "- **Tax Estimator** 🏦 (Estimate yearly tax based on user input)\n",
        "\n",
        "---\n",
        "\n",
        "## **📍 Submission Guidelines**\n",
        "1. **GitHub Repository:**  \n",
        "   - Upload all code files, `requirements.txt`, and a proper `README.md`.  \n",
        "   - Include **Course Name, Instructor Name, App Overview, Deployment Link, and a Demo Video**.  \n",
        "   - **Share the repository link.**\n",
        "\n",
        "2. **Streamlit Share Deployment:**  \n",
        "   - Share the deployed app link.\n",
        "\n",
        "3. **LinkedIn Post:**  \n",
        "   - Post about your app on LinkedIn with:\n",
        "     - **Project Description**\n",
        "     - **GitHub Link**\n",
        "     - **Streamlit App Link**\n",
        "     - **Demo Video**\n",
        "     - **Instructor Tag & Hashtags**\n",
        "\n",
        "4. **Submission Form:**  \n",
        "   - Submit **GitHub link, Streamlit link, and LinkedIn post link** in the designated form.\n",
        "\n",
        "---\n",
        "\n"
      ],
      "metadata": {
        "id": "5buGSxovAcUa"
      }
    },
    {
      "cell_type": "markdown",
      "source": [
        "Github Repository: [https://lnkd.in/dTXUKknA]\n",
        "Streamlit App: [https://lnkd.in/dmFC-hRW]\n",
        "Linkedin Post: [https://www.linkedin.com/posts/abdur-rehman-89483b28b_fintech-programming-ml-activity-7311918221278744576-em9Y?utm_source=share&utm_medium=member_desktop&rcm=ACoAAEZs0jABnu60kgZAJVucpkhr9yqJlvMikyw]"
      ],
      "metadata": {
        "id": "f4APdldrp7v0"
      }
    }
  ]
}