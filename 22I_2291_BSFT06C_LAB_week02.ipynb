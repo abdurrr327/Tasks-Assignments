{
 "cells": [
  {
   "cell_type": "markdown",
   "metadata": {
    "id": "XsCrWk5jgYB1"
   },
   "source": [
    "\n",
    "\n",
    "# **Programming for Finance Lab 1**\n",
    "**Instructor:** Muhammad **Awais**  \n",
    "**Semester:** Spring 2025  \n",
    "**Department of Financial Technology**  \n",
    "**National University of Computer and Emerging Sciences, Islamabad Campus**\n",
    "\n",
    "## Lab Instructions\n",
    "- Submit your work as a **Jupyter Notebook (.ipynb)** file.\n",
    "- Name your file in the format **“ROLLNO_SECTION_LABNO.ipynb”** (E.g., 22I_1234_BSFT06C_LAB01.ipynb).\n",
    "- Ensure all code runs correctly before submission.\n",
    "- **Do not use AI-generated code (e.g., GPT, Copilot, etc.).** Your work must be original.\n",
    "- Submit the notebook on **Google Classroom**.\n"
   ]
  },
  {
   "cell_type": "markdown",
   "metadata": {
    "id": "g2mfR0Iwgfot"
   },
   "source": [
    "### **Task 1: Declaring Financial Variables and Printing Values**\n",
    "**Objective:**  \n",
    "Learn how to define and use variables to represent financial data. This task helps you understand how to store values like stock prices and number of shares and perform simple calculations on them.\n",
    "\n",
    "**Instructions:**\n",
    "- Define a variable `stock_price` to store the price of a single stock.\n",
    "- Define `num_shares` to store the number of shares you have.\n",
    "- Calculate the `total_investment` by multiplying the stock price with the number of shares.\n",
    "- Print the values of `stock_price`, `num_shares`, and `total_investment`."
   ]
  },
  {
   "cell_type": "code",
   "execution_count": 2,
   "metadata": {
    "id": "nrYXh-x9gT95"
   },
   "outputs": [
    {
     "name": "stdout",
     "output_type": "stream",
     "text": [
      "Stock Price: 250.5\n",
      "Number of Shares: 100\n",
      "Total Investment: 25050.0\n"
     ]
    }
   ],
   "source": [
    "stock_price = 250.50   \n",
    "num_shares = 100      \n",
    "\n",
    "total_investment = stock_price * num_shares\n",
    "\n",
    "print(\"Stock Price:\", stock_price)\n",
    "print(\"Number of Shares:\", num_shares)\n",
    "print(\"Total Investment:\", total_investment) "
   ]
  },
  {
   "cell_type": "markdown",
   "metadata": {
    "id": "NQSefwJ5ld99"
   },
   "source": [
    "### **Task 2: Identifying Data Types in Finance**\n",
    "\n",
    "**Objective:**  \n",
    "Understand the different types of data used in financial calculations.\n",
    "\n",
    "**Instructions:**\n",
    "- Print the data types of `stock_price`, `num_shares`, and `total_investment` to understand how Python recognizes different types of values (e.g., numbers with decimals, integers, and results from calculations)."
   ]
  },
  {
   "cell_type": "code",
   "execution_count": 4,
   "metadata": {
    "id": "dLHleNH5liMG"
   },
   "outputs": [
    {
     "name": "stdout",
     "output_type": "stream",
     "text": [
      "<class 'float'>\n",
      "<class 'int'>\n",
      "<class 'float'>\n"
     ]
    }
   ],
   "source": [
    "print(type(stock_price))\n",
    "print(type(num_shares))\n",
    "print(type(total_investment))"
   ]
  },
  {
   "cell_type": "markdown",
   "metadata": {
    "id": "KAwpyGzwliub"
   },
   "source": [
    "### **Task 3: Basic Arithmetic Operations for Finance**\n",
    "**Objective:**  \n",
    "Perform basic arithmetic operations commonly used in finance, such as calculating profit, loss, and percentage change.\n",
    "\n",
    "**Instructions:**\n",
    "- Define a `buying_price`, `selling_price` and `num_shares` for stock transactions.\n",
    "- Calculate the profit from the transaction (selling price minus buying price, multiplied by the number of shares).\n",
    "\n",
    "    **Profit** = (Selling Price - Buying Price) × Number of Shares\n",
    "\n",
    "- Calculate the percentage change in price from buying to selling.\n",
    "\n",
    "    **Percentage Change** = ((Selling Price - Buying Price) / Buying Price) × 100\n",
    "- Print the calculated profit and percentage change.\n"
   ]
  },
  {
   "cell_type": "code",
   "execution_count": 8,
   "metadata": {
    "id": "IVRj9C53lm-d"
   },
   "outputs": [
    {
     "name": "stdout",
     "output_type": "stream",
     "text": [
      "Profit 10000\n",
      "Percentage change 50.0\n"
     ]
    }
   ],
   "source": [
    "buying_price = 200\n",
    "selling_price = 300\n",
    "num_shares = 100\n",
    "\n",
    "profit = (selling_price-buying_price)*num_shares\n",
    "per_change = ((selling_price-buying_price)/buying_price)*100\n",
    "print(\"Profit\",profit)\n",
    "print(\"Percentage change\",per_change)"
   ]
  },
  {
   "cell_type": "markdown",
   "metadata": {
    "id": "_bygM0DSlnZO"
   },
   "source": [
    "# **Task 4: Practice with String Operations**\n",
    "\n",
    "This practice file is designed to help beginners explore various string operations in Python, such as case conversion, length calculation, word replacement, and substring manipulation. The exercises encourage understanding and experimentation with Python's string methods and functionalities.\n",
    "\n",
    "---\n",
    "\n",
    "## **Description of Exercises**\n",
    "\n",
    "### **1. Uppercase Conversion**\n",
    "- Create a variable with the word `\"python\"`.\n",
    "- Print the word in all uppercase letters.\n",
    "\n",
    "### **2. Lowercase Conversion**\n",
    "- Create a variable with the word `\"PROGRAMMING\"`.\n",
    "- Print the word in all lowercase letters.\n",
    "\n",
    "### **3. Word Length**\n",
    "- Get a word as input from the user.\n",
    "- Print the number of letters in the word.\n",
    "\n",
    "### **4. Word Replacement**\n",
    "- Create a sentence: `\"I like programming\"`.\n",
    "- Replace the word `\"programming\"` with `\"coding\"` and print the result.\n",
    "\n",
    "### **5. Full Name Joining**\n",
    "- Get the first name and last name as input from the user.\n",
    "- Join them with a space in between and print the full name.\n",
    "\n",
    "### **6. First and Last Letters**\n",
    "- Create a variable with a word.\n",
    "- Print the first letter of the word.\n",
    "- Print the last letter of the word.\n",
    "\n",
    "### **7. Substring Search**\n",
    "- Get a sentence as input from the user.\n",
    "- Check if the word `\"hello\"` exists in the sentence.\n",
    "- Print the result (True/False).\n",
    "\n",
    "### **8. Hyphenated Words**\n",
    "- Create two variables with words.\n",
    "- Join them together with a hyphen (`-`) in between.\n",
    "- Example: `word1 = \"blue\"`, `word2 = \"sky\"` → Output: `\"blue-sky\"`.\n",
    "\n",
    "### **Bonus Exercise: Word Repetition**\n",
    "- Get a word as input from the user.\n",
    "- Print the word 3 times, separated by spaces.\n",
    "  - Example: If the input is `\"hello\"`, the output should be: `\"hello hello hello\"`.\n",
    "\n",
    "---\n",
    "\n",
    "## **Learning Objectives**\n",
    "- Learn to manipulate strings with case conversion methods (`upper()`, `lower()`).\n",
    "- Practice counting characters using the `len()` function.\n",
    "- Understand how to replace parts of a string with the `replace()` method.\n",
    "- Explore joining and formatting strings.\n",
    "- Develop skills to check for substrings within larger strings.\n",
    "- Experiment with concatenation and repetition of strings.\n",
    "\n",
    "---\n",
    "\n"
   ]
  },
  {
   "cell_type": "code",
   "execution_count": null,
   "metadata": {
    "id": "fLljwCpOlwDF"
   },
   "outputs": [],
   "source": [
    "# Learning Simple String Operations\n",
    "\n",
    "# Example 1: Basic text operations\n",
    "print(\"Example 1: Playing with text\")\n",
    "message = \"hello\"\n",
    "print(\"Original text:\", message)\n",
    "print(\"UPPERCASE:\", message.upper())\n",
    "print(\"First letter:\", message[0])\n",
    "print()\n",
    "\n",
    "# Example 2: Joining words\n",
    "print(\"Example 2: Joining words\")\n",
    "first_word = \"blue\"\n",
    "second_word = \"sky\"\n",
    "joined_words = first_word + \" \" + second_word\n",
    "print(\"First word:\", first_word)\n",
    "print(\"Second word:\", second_word)\n",
    "print(\"Joined words:\", joined_words)\n",
    "print()\n",
    "\n",
    "# Example 3: Counting letters\n",
    "print(\"Example 3: Counting letters\")\n",
    "word = \"butterfly\"\n",
    "letter_count = len(word)\n",
    "print(\"The word is:\", word)\n",
    "print(\"Number of letters:\", letter_count)\n",
    "print()\n",
    "\n",
    "# Example 4: Finding words\n",
    "print(\"Example 4: Finding words\")\n",
    "sentence = \"I love pizza\"\n",
    "has_pizza = \"pizza\" in sentence\n",
    "print(\"The sentence:\", sentence)\n",
    "print(\"Does it contain 'pizza'?\", has_pizza)\n",
    "print()\n",
    "\n",
    "# Example 5: Simple text replacement\n",
    "print(\"Example 5: Replacing words\")\n",
    "my_food = \"I like pasta\"\n",
    "new_food = my_food.replace(\"pasta\", \"pizza\")\n",
    "print(\"Original:\", my_food)\n",
    "print(\"After replacement:\", new_food)\n"
   ]
  },
  {
   "cell_type": "code",
   "execution_count": 26,
   "metadata": {
    "id": "Xkh4HHpFwX-k"
   },
   "outputs": [
    {
     "name": "stdout",
     "output_type": "stream",
     "text": [
      "UPPERCASE: PYTHON\n",
      "\n",
      "Lowercase: programming\n",
      "\n",
      "Number of letters: 8\n",
      "\n",
      "Original: I like programming\n",
      "After replacement: I like coding\n",
      "joined name: abdur rehman\n",
      "V\n",
      "E\n",
      "Does it contain 'hello'? False\n",
      "\n",
      "black-blue\n"
     ]
    }
   ],
   "source": [
    "#Your Tasks\n",
    "# Practice with String Operations\n",
    "\n",
    "# 1. Create a variable with the word \"python\"\n",
    "# Print it in all uppercase letters\n",
    "message = (\"Python\")\n",
    "print(\"UPPERCASE:\", message.upper())\n",
    "print()\n",
    "\n",
    "\n",
    "# 2. Create a variable with the word \"PROGRAMMING\"\n",
    "# Print it in all lowercase letters\n",
    "message = (\"PROGRAMMING\")\n",
    "print(\"Lowercase:\", message.lower())\n",
    "print()\n",
    "\n",
    "\n",
    "# 3. Get a word from user\n",
    "# Print how many letters are in that word\n",
    "word = \"football\"\n",
    "letter_count = len(word)\n",
    "print(\"Number of letters:\", letter_count)\n",
    "print()\n",
    "\n",
    "# 4. Create a sentence: \"I like programming\"\n",
    "# Replace \"programming\" with \"coding\"\n",
    "sentence = \"I like programming\"\n",
    "new_sentence = sentence.replace(\"programming\", \"coding\")\n",
    "print(\"Original:\", sentence)\n",
    "print(\"After replacement:\", new_sentence)\n",
    "\n",
    "\n",
    "# 5. Get a first name from user\n",
    "# Get a last name from user\n",
    "# Join them with a space in between\n",
    "first_name = \"abdur\"\n",
    "last_name = \"rehman\"\n",
    "joined_name = first_name + \" \" + last_name\n",
    "print(\"joined name:\", joined_name )\n",
    "\n",
    "# 6. Create a word variable\n",
    "# Print its first letter\n",
    "# Print its last letter\n",
    "word= \"VariablE\"\n",
    "print(word[0])\n",
    "print(word[7])\n",
    "\n",
    "# 7. Get a sentence from user\n",
    "# Check if the word \"hello\" is in that sentence\n",
    "# Print the result\n",
    "sentence = \"Hi, Hello There\"\n",
    "has_hello = \"hello\" in sentence\n",
    "print(\"Does it contain 'hello'?\", has_hello)\n",
    "print()\n",
    "\n",
    "# 8. Create two variables with words\n",
    "# Print them together with a hyphen in between\n",
    "# Example: word1 = \"blue\", word2 = \"sky\" → \"blue-sky\"\n",
    "x= \"black\"\n",
    "y= \"blue\"\n",
    "hyphen = x+\"-\"+y\n",
    "print(hyphen)\n"
   ]
  },
  {
   "cell_type": "markdown",
   "metadata": {
    "id": "KxIMOLlQlwfG"
   },
   "source": [
    "### **Task 5: Calculate Total Cost of Investment**\n",
    "\n",
    "**Objective:**  \n",
    "Calculate the total cost of an investment based on the stock name, price per share, and number of shares the user wants to buy.\n",
    "\n",
    "### Instructions:\n",
    "1. Prompt the user to input the following:\n",
    "   - **Stock Name**: The name of the stock.\n",
    "   - **Price per Share**: The price of one share of the stock.\n",
    "   - **Number of Shares**: The number of shares the user wants to buy.\n",
    "2. Use the formula to calculate the total cost of the investment:\n",
    "\n",
    "   **Total Cost** = Price per Share × Number of Shares\n",
    "\n",
    "*   List item\n",
    "*   List item\n",
    "\n",
    "\n",
    "3. Display the **Total Cost** of the investment to the user.\n",
    "   "
   ]
  },
  {
   "cell_type": "code",
   "execution_count": 31,
   "metadata": {
    "id": "fugul8HMlzHx"
   },
   "outputs": [
    {
     "name": "stdin",
     "output_type": "stream",
     "text": [
      "Enter the stock name dha\n",
      "Enter the price per share 150\n",
      "Enter number of shares 10\n"
     ]
    },
    {
     "name": "stdout",
     "output_type": "stream",
     "text": [
      "1500\n"
     ]
    }
   ],
   "source": [
    "stock_name = input(\"Enter the stock name\")\n",
    "Price_per_share= int(input(\"Enter the price per share\"))\n",
    "Num_shares= int(input(\"Enter number of shares\"))\n",
    "Total_Cost = Price_per_share*Num_shares\n",
    "print(Total_Cost)\n"
   ]
  },
  {
   "cell_type": "markdown",
   "metadata": {
    "id": "SB6mP3Tllzio"
   },
   "source": [
    "### **Task 6: Simple Interest Calculator for Investment Growth**\n",
    "**Objective:**  \n",
    "Apply basic financial formulas to calculate the growth of an investment using simple interest.\n",
    "\n",
    "**Instructions:**\n",
    "- Ask the user for the principal amount (initial investment), interest rate, and the time period (in years).\n",
    "- Calculate the simple interest using the formula: Interest = (Principal * Rate * Time) / 100.\n",
    "- Calculate and display the total amount after adding the interest to the principal."
   ]
  },
  {
   "cell_type": "code",
   "execution_count": 33,
   "metadata": {
    "id": "jGwGSAqQl3YN"
   },
   "outputs": [
    {
     "name": "stdin",
     "output_type": "stream",
     "text": [
      "initial investment: 500\n",
      "Interest rate: 4.5\n",
      "Time period: 3\n"
     ]
    },
    {
     "name": "stdout",
     "output_type": "stream",
     "text": [
      "Total amount: 504.5\n"
     ]
    }
   ],
   "source": [
    "initial_investment= int(input(\"initial investment:\"))\n",
    "Int_rate= float(input(\"Interest rate:\"))\n",
    "T= int(input(\"Time period:\"))\n",
    "Interest = (initial_investment * Int_rate * T) / 100\n",
    "Total_amount = (Int_rate+initial_investment)\n",
    "print(\"Total amount:\", Total_amount)"
   ]
  },
  {
   "cell_type": "markdown",
   "metadata": {
    "id": "5Rf8jI6QmA-u"
   },
   "source": [
    "### **Task 7: Currency Conversion Calculator**\n",
    "**Objective:**  \n",
    "Convert currency values from USD to other major currencies.  \n",
    "\n",
    "**Instructions:**  \n",
    "1. Ask the user for an amount in **USD**.  \n",
    "2. Convert the amount into the following currencies using **fixed exchange rates** (example rates as of 2025, update as needed):  \n",
    "   - **Euros (EUR)** → 1 USD = 0.91 EUR  \n",
    "   - **British Pounds (GBP)** → 1 USD = 0.76 GBP  \n",
    "   - **Pakistani Rupees (PKR)** → 1 USD = 280 PKR  \n"
   ]
  },
  {
   "cell_type": "code",
   "execution_count": 36,
   "metadata": {
    "id": "MiWx357tmGFp"
   },
   "outputs": [
    {
     "name": "stdin",
     "output_type": "stream",
     "text": [
      "Amount in USD: 100\n"
     ]
    },
    {
     "name": "stdout",
     "output_type": "stream",
     "text": [
      "amount in euros: 91.0\n",
      "amount in pounds: 76.0\n",
      "amount in Rupees: 28000\n"
     ]
    }
   ],
   "source": [
    "amount_usd=int(input(\"Amount in USD:\"))\n",
    "amounts_euro= amount_usd * 0.91\n",
    "amounts_pounds= amount_usd * 0.76\n",
    "amounts_rupees= amount_usd * 280\n",
    "print(\"amount in euros:\", amounts_euro)\n",
    "print(\"amount in pounds:\", amounts_pounds)\n",
    "print(\"amount in Rupees:\", amounts_rupees)"
   ]
  },
  {
   "cell_type": "markdown",
   "metadata": {
    "id": "mLwwXRcAtnNr"
   },
   "source": [
    "### **Task 8: Finding the Largest Investment Value**\n",
    "**Objective:**  \n",
    "Compare investment amounts to determine the largest value.  \n",
    "\n",
    "**Instructions:**  \n",
    "1. Ask the user to enter **three different investment amounts**.  \n",
    "2. Use Python’s built-in functions to determine the **largest investment**.  "
   ]
  },
  {
   "cell_type": "code",
   "execution_count": 38,
   "metadata": {
    "id": "YDDXstK-tsmm"
   },
   "outputs": [
    {
     "name": "stdin",
     "output_type": "stream",
     "text": [
      "enter amount investment 1: 100\n",
      "Enter amount investment 2: 200\n",
      "Enter amount investment 3: 309\n"
     ]
    },
    {
     "name": "stdout",
     "output_type": "stream",
     "text": [
      "Largest nvestment is: 309\n"
     ]
    }
   ],
   "source": [
    "i1=int(input(\"enter amount investment 1:\"))\n",
    "i2=int(input(\"Enter amount investment 2:\"))\n",
    "i3=int(input(\"Enter amount investment 3:\"))\n",
    "maximum= max(i1, i2, i3)\n",
    "print(\"Largest nvestment is:\",maximum)"
   ]
  },
  {
   "cell_type": "markdown",
   "metadata": {
    "id": "gma9brebt0Px"
   },
   "source": [
    "### **Task 9: Simple Calculator for Basic Operations**\n",
    "\n",
    "**Objective:**  \n",
    "Create a simple calculator program that performs basic arithmetic operations on two numbers. The user is prompted to enter two numbers, and the program automatically performs the following operations:\n",
    "\n",
    "- **Addition**\n",
    "- **Subtraction**\n",
    "- **Multiplication**\n",
    "- **Division** (with a check for division by zero)\n",
    "- **Exponentiation**\n",
    "\n",
    "### Instructions:\n",
    "1. The program will ask the user to input two numbers.\n",
    "2. The program will then display the results of the following operations on the two numbers:\n",
    "   - **Addition**: Adds the two numbers.\n",
    "   - **Subtraction**: Subtracts the second number from the first number.\n",
    "   - **Multiplication**: Multiplies the two numbers.\n",
    "   - **Division**: Divides the first number by the second number. If division by zero is attempted, the program will display an error message.\n",
    "   - **Exponentiation**: Raises the first number to the power of the second number.\n",
    "   \n",
    "\n"
   ]
  },
  {
   "cell_type": "code",
   "execution_count": 40,
   "metadata": {},
   "outputs": [
    {
     "name": "stdin",
     "output_type": "stream",
     "text": [
      "Enter the first number:  10\n",
      "Enter the second number:  20\n"
     ]
    },
    {
     "name": "stdout",
     "output_type": "stream",
     "text": [
      "Addition: 30.0\n",
      "Subtraction: -10.0\n",
      "Multiplication: 200.0\n",
      "Division: 0.5\n",
      "Exponentiation: 1e+20\n"
     ]
    }
   ],
   "source": [
    "num1 = float(input(\"Enter the first number: \"))\n",
    "num2 = float(input(\"Enter the second number: \"))\n",
    "\n",
    "addition = num1 + num2\n",
    "subtraction = num1 - num2\n",
    "multiplication = num1 * num2\n",
    "\n",
    "if num2 == 0:\n",
    "  division = \"Undefined\"\n",
    "else:\n",
    "  division = num1 / num2\n",
    "\n",
    "exponentiation = num1 ** num2\n",
    "\n",
    "print(\"Addition:\", addition)\n",
    "print(\"Subtraction:\",subtraction)\n",
    "print(\"Multiplication:\" , multiplication)\n",
    "print(\"Division:\", division)\n",
    "print(\"Exponentiation:\" ,exponentiation)"
   ]
  },
  {
   "cell_type": "markdown",
   "metadata": {
    "id": "1Ys9mGiymFIJ"
   },
   "source": [
    "### **Task 10: Calculate Compound Interest**\n",
    "\n",
    "**Objective:**  \n",
    "Create a program that calculates the compound interest on an investment.\n",
    "\n",
    "### Instructions:\n",
    "1. Ask the user to input:\n",
    "   - **Principal** (Initial Investment)\n",
    "   - **Rate** (Annual Interest Rate in percentage)\n",
    "   - **Time** (Number of years)\n",
    "   - **Frequency** (Number of times the interest is compounded per year)\n",
    "\n",
    "2. Use the compound interest formula:\n",
    "            A = P * (1 + r/n)^(nt)\n",
    "Where:\n",
    "- **A** = Final amount after interest\n",
    "- **P** = Principal (Initial investment)\n",
    "- **r** = Annual interest rate (decimal form)\n",
    "- **t** = Time in years\n",
    "- **n** = Number of times the interest is compounded per year\n",
    "\n",
    "3. Calculate the compound interest:\n",
    "        Compound Interest = A - P\n",
    "\n",
    "\n",
    "4. Display the **compound interest** and the **final amount**.\n",
    "\n",
    "\n"
   ]
  },
  {
   "cell_type": "code",
   "execution_count": 44,
   "metadata": {
    "id": "Nw4Mg7YBmH2c"
   },
   "outputs": [
    {
     "name": "stdin",
     "output_type": "stream",
     "text": [
      "Enter the principal (initial investment):  100\n",
      "Enter the annual interest rate (in percentage):  3.2\n",
      "Enter the number of years:  4\n",
      "Enter the number of times the interest is compounded per year:  20\n"
     ]
    },
    {
     "name": "stdout",
     "output_type": "stream",
     "text": [
      "The compound interest is: 13.643674960862256\n",
      "The final amount after interest is: 113.64367496086226\n"
     ]
    }
   ],
   "source": [
    "\n",
    "P = float(input(\"Enter the principal (initial investment): \"))\n",
    "r = float(input(\"Enter the annual interest rate (in percentage): \")) / 100\n",
    "t = float(input(\"Enter the number of years: \"))\n",
    "n = int(input(\"Enter the number of times the interest is compounded per year: \"))\n",
    "\n",
    "A = P * (1 + r / n) ** (n * t)\n",
    "\n",
    "compound_interest = A - P\n",
    "\n",
    "print(\"The compound interest is:\", compound_interest)\n",
    "print(\"The final amount after interest is:\",A)\n"
   ]
  },
  {
   "cell_type": "markdown",
   "metadata": {
    "id": "Ijwus5kEmR9n"
   },
   "source": [
    "### Final Deliverables\n",
    "- Submit a Notebook (.ipynb) file containing all tasks.\n",
    "- Submit it on Google Classroom following the naming convention.\n",
    "- Ensure originality; AI-generated code is not allowed."
   ]
  },
  {
   "cell_type": "code",
   "execution_count": null,
   "metadata": {},
   "outputs": [],
   "source": []
  },
  {
   "cell_type": "code",
   "execution_count": null,
   "metadata": {},
   "outputs": [],
   "source": []
  }
 ],
 "metadata": {
  "colab": {
   "provenance": []
  },
  "kernelspec": {
   "display_name": "Python 3 (ipykernel)",
   "language": "python",
   "name": "python3"
  },
  "language_info": {
   "codemirror_mode": {
    "name": "ipython",
    "version": 3
   },
   "file_extension": ".py",
   "mimetype": "text/x-python",
   "name": "python",
   "nbconvert_exporter": "python",
   "pygments_lexer": "ipython3",
   "version": "3.12.7"
  }
 },
 "nbformat": 4,
 "nbformat_minor": 4
}
