{
  "cells": [
    {
      "cell_type": "markdown",
      "id": "82cd9910",
      "metadata": {
        "id": "82cd9910"
      },
      "source": [
        "# Week 8 Lab: Financial Data Manipulation Using Pandas\n",
        "**Institution:** FAST-NUCES, Islamabad  "
      ]
    },
    {
      "cell_type": "markdown",
      "id": "e5c838fd",
      "metadata": {
        "id": "e5c838fd"
      },
      "source": [
        "## Learning Objectives\n",
        "- Understand and use Pandas for data manipulation in finance.\n",
        "- Work with Series and DataFrames for financial datasets.\n",
        "- Apply indexing, filtering, and sorting operations.\n",
        "- Perform grouping, aggregation, and statistical analysis on stock data.\n",
        "- Clean and transform real-world financial datasets."
      ]
    },
    {
      "cell_type": "code",
      "execution_count": null,
      "id": "fd939912",
      "metadata": {
        "id": "fd939912"
      },
      "outputs": [],
      "source": [
        "import pandas as pd"
      ]
    },
    {
      "cell_type": "markdown",
      "id": "96f2857f",
      "metadata": {
        "id": "96f2857f"
      },
      "source": [
        "# **Exercise 1: Creating and Understanding Pandas Objects**\n",
        "\n",
        "\n",
        "## **Task Breakdown**\n",
        "### **Step 1: Create a Pandas Series**\n",
        "- The **Series** will store Tesla’s **closing stock prices** for five days.\n",
        "- Each value in the Series will have a corresponding **day label** (`Day1`, `Day2`, etc.).\n",
        "\n",
        "### **Step 2: Create a Pandas DataFrame**\n",
        "- The **DataFrame** will contain Tesla stock data with the following columns:\n",
        "  - **Company**: The name of the company (Tesla).\n",
        "  - **Open**: Stock price at market open.\n",
        "  - **High**: Highest stock price of the day.\n",
        "  - **Low**: Lowest stock price of the day.\n",
        "  - **Close**: Stock price at market close.\n",
        "\n",
        "### **Step 3: Display the Data Types**\n",
        "- Use the `type()` function to check whether:\n",
        "  - `stock_prices` is a **Series**.\n",
        "  - `df` is a **DataFrame**.\n",
        "\n",
        "### **Step 4: Print the Objects**\n",
        "- Print the **Series** and **DataFrame** to verify their structure.\n"
      ]
    },
    {
      "cell_type": "code",
      "execution_count": 5,
      "id": "d12a63c1",
      "metadata": {
        "id": "d12a63c1",
        "outputId": "40c37c8a-fe94-49c7-d566-9c619d305e7b",
        "colab": {
          "base_uri": "https://localhost:8080/"
        }
      },
      "outputs": [
        {
          "output_type": "stream",
          "name": "stdout",
          "text": [
            "<class 'pandas.core.series.Series'>\n",
            "<class 'pandas.core.frame.DataFrame'>\n",
            "0    850\n",
            "1    863\n",
            "2    821\n",
            "3    880\n",
            "4    895\n",
            "dtype: int64\n",
            "  Company  Open  High  Low  Close\n",
            "0   Tesla   841   860  830    850\n",
            "1   Tesla   853   870  850    863\n",
            "2   Tesla   817   830  810    821\n",
            "3   Tesla   873   890  865    880\n",
            "4   Tesla   884   900  880    895\n"
          ]
        }
      ],
      "source": [
        "import pandas as pd\n",
        "stock_prices = pd.Series([850, 863, 821, 880, 895])\n",
        "index=['Day1', 'Day2', 'Day3', 'Day4', 'Day5']\n",
        "\n",
        "data = {'Company': ['Tesla', 'Tesla', 'Tesla', 'Tesla', 'Tesla'],\n",
        "        'Open': [841, 853, 817, 873, 884],\n",
        "        'High': [860, 870, 830, 890, 900],\n",
        "        'Low': [830, 850, 810, 865, 880],\n",
        "        'Close': [850, 863, 821, 880, 895]}\n",
        "df = pd.DataFrame(data)\n",
        "print(type(stock_prices))\n",
        "print(type(df))\n",
        "\n",
        "print(stock_prices)\n",
        "print(df)"
      ]
    },
    {
      "cell_type": "markdown",
      "id": "e528e03a",
      "metadata": {
        "id": "e528e03a"
      },
      "source": [
        "# **Exercise 2: Indexing and Selecting Data**\n",
        "## **Objective**\n",
        "This exercise will help you:\n",
        "- Learn how to **select specific columns** from a DataFrame.\n",
        "- Retrieve **specific values** using different indexing methods.\n",
        "- Use **.iloc[] for positional indexing** to extract multiple rows.\n",
        "\n",
        "---\n",
        "\n",
        "## **Task Breakdown**\n",
        "### **Step 1: Select the 'Close' Column**\n",
        "- Extract the **'Close'** column from the DataFrame.\n",
        "- This will return a **Pandas Series** containing Tesla’s closing prices.\n",
        "\n",
        "### **Step 2: Retrieve the Closing Price on Day 3**\n",
        "- Use **label-based indexing** to find the **closing price** of Tesla on `Day3`.\n",
        "\n",
        "### **Step 3: Use `.iloc[]` to Get the First Three Rows**\n",
        "- `.iloc[]` is used for **positional indexing**.\n",
        "- Extract the **first three rows** from the dataset.\n",
        "\n",
        "---\n",
        "\n"
      ]
    },
    {
      "cell_type": "code",
      "execution_count": 12,
      "id": "ff148ea1",
      "metadata": {
        "id": "ff148ea1",
        "colab": {
          "base_uri": "https://localhost:8080/"
        },
        "outputId": "85c227f9-8cff-4830-c85f-6a4062e9fa55"
      },
      "outputs": [
        {
          "output_type": "stream",
          "name": "stdout",
          "text": [
            "Day1    850\n",
            "Day2    863\n",
            "Day3    821\n",
            "Day4    880\n",
            "Day5    895\n",
            "Name: Close, dtype: int64\n",
            "821\n",
            "     Company  Open  High  Low  Close\n",
            "Day1   Tesla   841   860  830    850\n",
            "Day2   Tesla   853   870  850    863\n",
            "Day3   Tesla   817   830  810    821\n"
          ]
        }
      ],
      "source": [
        "close_prices = df['Close']\n",
        "print(close_prices)\n",
        "\n",
        "day3_close = df.loc['Day3', 'Close']\n",
        "print(day3_close)\n",
        "\n",
        "first_three_rows = df.iloc[:3]\n",
        "print(first_three_rows)"
      ]
    },
    {
      "cell_type": "markdown",
      "id": "abb6a109",
      "metadata": {
        "id": "abb6a109"
      },
      "source": [
        "## Exercise 3: Loading and Inspecting the Dataset\n",
        "**Task:**\n",
        "1. Load the dataset using Pandas.\n",
        "2. Display basic dataset information.\n",
        "3. Show summary statistics for numerical columns."
      ]
    },
    {
      "cell_type": "code",
      "execution_count": 26,
      "id": "6ee6bf08",
      "metadata": {
        "id": "6ee6bf08",
        "colab": {
          "base_uri": "https://localhost:8080/"
        },
        "outputId": "11a980bf-2c34-40b7-9192-d4b60507fdfd"
      },
      "outputs": [
        {
          "output_type": "stream",
          "name": "stdout",
          "text": [
            "<class 'pandas.core.frame.DataFrame'>\n",
            "RangeIndex: 757 entries, 0 to 756\n",
            "Data columns (total 6 columns):\n",
            " #   Column  Non-Null Count  Dtype  \n",
            "---  ------  --------------  -----  \n",
            " 0   date    757 non-null    object \n",
            " 1   close   757 non-null    float64\n",
            " 2   volume  757 non-null    object \n",
            " 3   open    757 non-null    float64\n",
            " 4   high    757 non-null    float64\n",
            " 5   low     757 non-null    float64\n",
            "dtypes: float64(4), object(2)\n",
            "memory usage: 35.6+ KB\n",
            "None\n",
            "            close        open        high         low\n",
            "count  757.000000  757.000000  757.000000  757.000000\n",
            "mean   272.645614  272.760659  277.122776  268.017399\n",
            "std     58.378585   58.449827   59.194761   57.515736\n",
            "min    143.670000  142.320000  154.970000  141.050000\n",
            "25%    219.560000  219.640000  222.569000  216.080000\n",
            "50%    277.450000  277.625000  280.789900  273.550000\n",
            "75%    322.690000  321.560000  327.120000  316.560100\n",
            "max    385.000000  386.690000  389.610000  379.345000\n"
          ]
        }
      ],
      "source": [
        "url='https://raw.githubusercontent.com/plotly/datasets/master/tesla-stock-price.csv'\n",
        "df = pd.read_csv(url)\n",
        "\n",
        "print(df.info())\n",
        "print(df.describe())"
      ]
    },
    {
      "cell_type": "markdown",
      "id": "a6e2d4a4",
      "metadata": {
        "id": "a6e2d4a4"
      },
      "source": [
        "## Exercise 4: Filtering Tesla Stock Data\n",
        "**Task:**\n",
        "1. Find all records where Tesla's closing price was above $800.\n",
        "2. Find all records where Tesla's trading volume was above 2 million shares."
      ]
    },
    {
      "cell_type": "code",
      "execution_count": 18,
      "id": "f256626e",
      "metadata": {
        "id": "f256626e",
        "colab": {
          "base_uri": "https://localhost:8080/"
        },
        "outputId": "d4ea70af-bb6c-431d-d29d-dc301aa4d850"
      },
      "outputs": [
        {
          "output_type": "stream",
          "name": "stdout",
          "text": [
            "Empty DataFrame\n",
            "Columns: [date, close, volume, open, high, low]\n",
            "Index: []\n",
            "           date   close      volume    open      high       low\n",
            "1    2018/10/15  259.59   6189026.0  259.06  263.2800  254.5367\n",
            "2    2018/10/12  258.78   7189257.0  261.00  261.9900  252.0100\n",
            "3    2018/10/11  252.23   8128184.0  257.53  262.2500  249.0300\n",
            "4    2018/10/10  256.88  12781560.0  264.61  265.5100  247.7700\n",
            "5    2018/10/09  262.80  12037780.0  255.25  266.7700  253.3000\n",
            "..          ...     ...         ...     ...       ...       ...\n",
            "752  2015/10/21  210.09   4177956.0  211.99  214.8100  208.8000\n",
            "753  2015/10/20  213.03  14877020.0  227.72  228.6000  202.0000\n",
            "754  2015/10/19  228.10   2506836.0  226.50  231.1500  224.9400\n",
            "755  2015/10/16  227.01   4327574.0  223.04  230.4805  222.8700\n",
            "756  2015/10/15  221.31   2835920.0  216.43  221.7300  213.7000\n",
            "\n",
            "[741 rows x 6 columns]\n"
          ]
        }
      ],
      "source": [
        "df['volume'] = pd.to_numeric(df['volume'], errors='coerce')\n",
        "\n",
        "above_800 = df[df['close'] > 800]\n",
        "print(above_800)\n",
        "\n",
        "volume_above_2M = df[df['volume'] > 2000000]\n",
        "print(volume_above_2M)"
      ]
    },
    {
      "cell_type": "markdown",
      "id": "b3dbda8f",
      "metadata": {
        "id": "b3dbda8f"
      },
      "source": [
        "## Exercise 5: Sorting Tesla Stock Data\n",
        "**Task:**\n",
        "1. Sort Tesla stock data by date (oldest to newest).\n",
        "2. Sort the dataset by closing price (highest to lowest)."
      ]
    },
    {
      "cell_type": "code",
      "execution_count": 43,
      "id": "e9e47646",
      "metadata": {
        "id": "e9e47646",
        "colab": {
          "base_uri": "https://localhost:8080/"
        },
        "outputId": "15d72ca8-1cd1-4fc6-a123-f8336e6d5f26"
      },
      "outputs": [
        {
          "output_type": "stream",
          "name": "stdout",
          "text": [
            "           date   close      volume    open      high       low\n",
            "0         11:34  270.49         NaN  264.50  273.8800  262.2400\n",
            "756  2015/10/15  221.31   2835920.0  216.43  221.7300  213.7000\n",
            "755  2015/10/16  227.01   4327574.0  223.04  230.4805  222.8700\n",
            "754  2015/10/19  228.10   2506836.0  226.50  231.1500  224.9400\n",
            "753  2015/10/20  213.03  14877020.0  227.72  228.6000  202.0000\n",
            "..          ...     ...         ...     ...       ...       ...\n",
            "5    2018/10/09  262.80  12037780.0  255.25  266.7700  253.3000\n",
            "4    2018/10/10  256.88  12781560.0  264.61  265.5100  247.7700\n",
            "3    2018/10/11  252.23   8128184.0  257.53  262.2500  249.0300\n",
            "2    2018/10/12  258.78   7189257.0  261.00  261.9900  252.0100\n",
            "1    2018/10/15  259.59   6189026.0  259.06  263.2800  254.5367\n",
            "\n",
            "[757 rows x 6 columns]\n",
            "           date   close      volume     open    high      low\n",
            "272  2017/09/18  385.00   7177773.0  380.250  389.61  377.680\n",
            "331  2017/06/23  383.45   6425180.0  382.450  386.99  379.345\n",
            "332  2017/06/22  382.61   7510406.0  377.990  385.00  373.570\n",
            "338  2017/06/14  380.66  12778480.0  381.085  384.25  376.310\n",
            "273  2017/09/15  379.81   5407227.0  374.510  380.00  372.700\n",
            "..          ...     ...         ...      ...     ...      ...\n",
            "674  2016/02/12  151.04   7233264.0  155.000  157.01  143.700\n",
            "675  2016/02/11  150.47  14236900.0  152.000  163.26  147.000\n",
            "677  2016/02/09  148.25   8639661.0  142.320  159.79  141.050\n",
            "678  2016/02/08  147.99   9306754.0  157.105  157.15  146.000\n",
            "676  2016/02/10  143.67  10104690.0  150.500  154.97  141.740\n",
            "\n",
            "[757 rows x 6 columns]\n"
          ]
        }
      ],
      "source": [
        "\n",
        "df['volume'] = pd.to_numeric(df['volume'], errors='coerce')\n",
        "\n",
        "sorted_by_date = df.sort_values(by='date')\n",
        "sorted_by_closing_price = df.sort_values(by='close', ascending=False)\n",
        "\n",
        "print(sorted_by_date)\n",
        "print(sorted_by_closing_price)"
      ]
    },
    {
      "cell_type": "markdown",
      "id": "f433d7f3",
      "metadata": {
        "id": "f433d7f3"
      },
      "source": [
        "## Exercise 6: Calculating Daily Price Changes\n",
        "**Task:**\n",
        "1. Add a new column `Daily Change = Close - Open`.\n",
        "2. Calculate the percentage change: `(Daily Change / Open) * 100`.\n",
        "3. Find the day with the highest daily percentage gain."
      ]
    },
    {
      "cell_type": "code",
      "execution_count": 44,
      "id": "50f2c7d0",
      "metadata": {
        "id": "50f2c7d0",
        "colab": {
          "base_uri": "https://localhost:8080/"
        },
        "outputId": "0eb31d89-647d-4b85-99b4-db06421f287a"
      },
      "outputs": [
        {
          "output_type": "stream",
          "name": "stdout",
          "text": [
            "           date   close      volume    open      high       low  Daily Change  \\\n",
            "0         11:34  270.49         NaN  264.50  273.8800  262.2400          5.99   \n",
            "1    2018/10/15  259.59   6189026.0  259.06  263.2800  254.5367          0.53   \n",
            "2    2018/10/12  258.78   7189257.0  261.00  261.9900  252.0100         -2.22   \n",
            "3    2018/10/11  252.23   8128184.0  257.53  262.2500  249.0300         -5.30   \n",
            "4    2018/10/10  256.88  12781560.0  264.61  265.5100  247.7700         -7.73   \n",
            "..          ...     ...         ...     ...       ...       ...           ...   \n",
            "752  2015/10/21  210.09   4177956.0  211.99  214.8100  208.8000         -1.90   \n",
            "753  2015/10/20  213.03  14877020.0  227.72  228.6000  202.0000        -14.69   \n",
            "754  2015/10/19  228.10   2506836.0  226.50  231.1500  224.9400          1.60   \n",
            "755  2015/10/16  227.01   4327574.0  223.04  230.4805  222.8700          3.97   \n",
            "756  2015/10/15  221.31   2835920.0  216.43  221.7300  213.7000          4.88   \n",
            "\n",
            "     Percentage Change  \n",
            "0             2.264650  \n",
            "1             0.204586  \n",
            "2            -0.850575  \n",
            "3            -2.058013  \n",
            "4            -2.921280  \n",
            "..                 ...  \n",
            "752          -0.896269  \n",
            "753          -6.450905  \n",
            "754           0.706402  \n",
            "755           1.779950  \n",
            "756           2.254771  \n",
            "\n",
            "[757 rows x 8 columns]\n",
            "date                 2018/04/04\n",
            "close                    286.94\n",
            "volume               19880180.0\n",
            "open                     252.78\n",
            "high                     288.37\n",
            "low                       252.0\n",
            "Daily Change              34.16\n",
            "Percentage Change     13.513727\n",
            "Name: 136, dtype: object\n"
          ]
        }
      ],
      "source": [
        "\n",
        "df['volume'] = pd.to_numeric(df['volume'], errors='coerce')\n",
        "\n",
        "df['Daily Change'] = df['close'] - df['open']\n",
        "df['Percentage Change'] = (df['Daily Change'] / df['open']) * 100\n",
        "\n",
        "highest_gain_day = df.loc[df['Percentage Change'].idxmax()]\n",
        "\n",
        "print(df)\n",
        "print(highest_gain_day)\n",
        "\n"
      ]
    },
    {
      "cell_type": "markdown",
      "id": "48853dc6",
      "metadata": {
        "id": "48853dc6"
      },
      "source": [
        "## Exercise 7: Exporting Cleaned Data\n",
        "**Task:**\n",
        "Save the cleaned dataset as `tesla_cleaned.csv`."
      ]
    },
    {
      "cell_type": "code",
      "execution_count": 30,
      "id": "14458baf",
      "metadata": {
        "id": "14458baf",
        "colab": {
          "base_uri": "https://localhost:8080/"
        },
        "outputId": "44066765-b98e-46d1-db2a-c61136956c05"
      },
      "outputs": [
        {
          "output_type": "stream",
          "name": "stdout",
          "text": [
            "Cleaned data exported to tesla_cleaned.csv\n"
          ]
        }
      ],
      "source": [
        "df.to_csv('tesla_cleaned.csv', index=False)\n",
        "\n",
        "print(\"Cleaned data exported to tesla_cleaned.csv\")"
      ]
    }
  ],
  "metadata": {
    "kernelspec": {
      "display_name": "Python 3 (ipykernel)",
      "language": "python",
      "name": "python3"
    },
    "language_info": {
      "codemirror_mode": {
        "name": "ipython",
        "version": 3
      },
      "file_extension": ".py",
      "mimetype": "text/x-python",
      "name": "python",
      "nbconvert_exporter": "python",
      "pygments_lexer": "ipython3",
      "version": "3.12.5"
    },
    "colab": {
      "provenance": []
    }
  },
  "nbformat": 4,
  "nbformat_minor": 5
}