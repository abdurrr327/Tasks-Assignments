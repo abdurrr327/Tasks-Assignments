{
  "nbformat": 4,
  "nbformat_minor": 0,
  "metadata": {
    "colab": {
      "provenance": []
    },
    "kernelspec": {
      "name": "python3",
      "display_name": "Python 3"
    },
    "language_info": {
      "name": "python"
    }
  },
  "cells": [
    {
      "cell_type": "markdown",
      "source": [
        "# **Programming for Finance - Week 5 LAB**\n",
        "\n",
        "## **🔹 Overview**\n",
        "In this lab, you will learn:\n",
        "- How to read, write, and append **text files** in Python.\n",
        "- How to read and write **CSV files** using Python's `csv` module.\n",
        "- How to use `pandas` for **basic CSV processing**.\n",
        "- Financial applications of file handling."
      ],
      "metadata": {
        "id": "NU_lHVxsiyM_"
      }
    },
    {
      "cell_type": "code",
      "source": [
        "#22i-2291\n",
        "#Abdur rehman\n",
        "#section C"
      ],
      "metadata": {
        "id": "B127k99JmeVK"
      },
      "execution_count": null,
      "outputs": []
    },
    {
      "cell_type": "markdown",
      "source": [
        "### **📝 Task 1: Reading a Financial Transaction File**\n",
        "#### **🔹 Instructions**\n",
        "1. **Create a text file (`transactions.txt`)** containing the following sample financial transactions:\n",
        "   ```\n",
        "   Deposit: PKR 10,000\n",
        "   Withdrawal: PKR 5,000\n",
        "   Balance: PKR 50,000\n",
        "   ```\n",
        "2. **Write a Python program** to read and display the file content.\n",
        "3. **Ensure the file closes properly** to avoid memory leaks.\n"
      ],
      "metadata": {
        "id": "wSojEJcSizuj"
      }
    },
    {
      "cell_type": "code",
      "execution_count": 3,
      "metadata": {
        "colab": {
          "base_uri": "https://localhost:8080/"
        },
        "id": "DnuEtuF_ixIe",
        "outputId": "4476ea2f-a75e-4683-da1e-d89ac949ce48"
      },
      "outputs": [
        {
          "output_type": "stream",
          "name": "stdout",
          "text": [
            "Deposit: PKR 10,000\n",
            "Withdrawal: PKR 5,000\n",
            "Balance: PKR 50,000\n",
            "\n"
          ]
        }
      ],
      "source": [
        "with open('transactions.txt', 'w') as file:\n",
        "    file.write(\"Deposit: PKR 10,000\\n\")\n",
        "    file.write(\"Withdrawal: PKR 5,000\\n\")\n",
        "    file.write(\"Balance: PKR 50,000\\n\")\n",
        "\n",
        "with open('transactions.txt', 'r') as file:\n",
        "    content = file.read()\n",
        "    print(content)\n"
      ]
    },
    {
      "cell_type": "markdown",
      "source": [
        "### **📝 Task 2: Writing New Transactions to a File**\n",
        "#### **🔹 Instructions**\n",
        "1. Modify the code to create a new file (`new_transactions.txt`).\n",
        "2. Write the following financial transactions to the file:\n",
        "   ```\n",
        "   Deposit: PKR 15,000\n",
        "   Withdrawal: PKR 3,000\n",
        "   Balance: PKR 62,000\n",
        "   ```\n",
        "3. Ensure each transaction is written on a **new line**.\n",
        "\n",
        "\n"
      ],
      "metadata": {
        "id": "9sO4bZMwi9Li"
      }
    },
    {
      "cell_type": "code",
      "source": [
        "with open('new_transactions.txt', 'w') as file:\n",
        "    file.write(\"Deposit: PKR 15,000\\n\")\n",
        "    file.write(\"Withdrawal: PKR 3,000\\n\")\n",
        "    file.write(\"Balance: PKR 62,000\\n\")\n",
        "    print(\"Transaction written successfully\")"
      ],
      "metadata": {
        "colab": {
          "base_uri": "https://localhost:8080/"
        },
        "id": "AM6v9HHSjEP6",
        "outputId": "cbdee89a-37be-4fa8-ee3f-cc8c2c263df5"
      },
      "execution_count": 6,
      "outputs": [
        {
          "output_type": "stream",
          "name": "stdout",
          "text": [
            "Transaction written successfully\n"
          ]
        }
      ]
    },
    {
      "cell_type": "markdown",
      "source": [
        "### **📝 Task 3: Appending New Transactions**\n",
        "#### **🔹 Instructions**\n",
        "1. Modify the previous program to **append** the following new transactions instead of overwriting the file:\n",
        "   ```\n",
        "   Deposit: PKR 5,000\n",
        "   Withdrawal: PKR 1,500\n",
        "   ```\n",
        "2. Ensure the new transactions are added at the end of the file.\n",
        "3. Verify by opening and reading the file after appending.\n",
        "\n",
        "\n"
      ],
      "metadata": {
        "id": "i_zhguEojSg8"
      }
    },
    {
      "cell_type": "code",
      "source": [
        "with open('new_transactions.txt', 'a') as file:\n",
        "    file.write(\"Deposit: PKR 5,000\\n\")\n",
        "    file.write(\"Withdrawal: PKR 1,500\\n\")\n",
        "\n",
        "with open('new_transactions.txt', 'r') as file:\n",
        "    content = file.read()\n",
        "    print(content)\n",
        "    print(\"Transactions was appended successfully\")\n"
      ],
      "metadata": {
        "colab": {
          "base_uri": "https://localhost:8080/"
        },
        "id": "Qwqqp4u4kZOj",
        "outputId": "04672b71-afb3-4198-d914-b08ae68176ae"
      },
      "execution_count": 13,
      "outputs": [
        {
          "output_type": "stream",
          "name": "stdout",
          "text": [
            "Deposit: PKR 15,000\n",
            "Withdrawal: PKR 3,000\n",
            "Balance: PKR 62,000\n",
            "Deposit: PKR 5,000\n",
            "Withdrawal: PKR 1,500\n",
            "Deposit: PKR 5,000\n",
            "Withdrawal: PKR 1,500\n",
            "Deposit: PKR 5,000\n",
            "Withdrawal: PKR 1,500\n",
            "Deposit: PKR 5,000\n",
            "Withdrawal: PKR 1,500\n",
            "Deposit: PKR 5,000\n",
            "Withdrawal: PKR 1,500\n",
            "\n",
            "Transactions was appended successfully\n"
          ]
        }
      ]
    },
    {
      "cell_type": "markdown",
      "source": [
        "### **📝 Task 4: Reading a Large File Line by Line**\n",
        "#### **🔹 Instructions**\n",
        "1. Modify Task 1’s code to **read the file line by line** instead of loading it all at once.\n",
        "2. Use a loop to print each line individually.\n"
      ],
      "metadata": {
        "id": "LjMN69MCj2Ic"
      }
    },
    {
      "cell_type": "code",
      "source": [
        "with open('transactions.txt', 'r') as file:\n",
        "    for line in file:\n",
        "        print(line.strip())\n"
      ],
      "metadata": {
        "colab": {
          "base_uri": "https://localhost:8080/"
        },
        "id": "9mfWwuGukcen",
        "outputId": "f961c0b1-94bb-456e-c380-b49612d796f6"
      },
      "execution_count": 14,
      "outputs": [
        {
          "output_type": "stream",
          "name": "stdout",
          "text": [
            "Deposit: PKR 10,000\n",
            "Withdrawal: PKR 5,000\n",
            "Balance: PKR 50,000\n"
          ]
        }
      ]
    },
    {
      "cell_type": "markdown",
      "source": [
        "### **📝 Task 5: Using `with open()` for Safe File Handling**\n",
        "#### **🔹 Instructions**\n",
        "1. Modify Task 1’s code to use `with open()` for **automatic file closing**.\n",
        "2. Ensure the file closes automatically after reading."
      ],
      "metadata": {
        "id": "9_oQD2Puj6Zn"
      }
    },
    {
      "cell_type": "code",
      "source": [
        "with open(\"transactions.txt\", \"r\") as file:\n",
        "  print(file.read())"
      ],
      "metadata": {
        "colab": {
          "base_uri": "https://localhost:8080/"
        },
        "id": "I-e4j4tIkfph",
        "outputId": "e2330433-7fd0-4a0d-d5a3-612683ad6c97"
      },
      "execution_count": 16,
      "outputs": [
        {
          "output_type": "stream",
          "name": "stdout",
          "text": [
            "Deposit: PKR 10,000\n",
            "Withdrawal: PKR 5,000\n",
            "Balance: PKR 50,000\n",
            "\n"
          ]
        }
      ]
    },
    {
      "cell_type": "markdown",
      "source": [
        "### **📝 Task 6: Creating a CSV File**\n",
        "#### **🔹 Instructions**\n",
        "1. Create a CSV file (`transactions.csv`) with the following financial transactions:\n",
        "   ```csv\n",
        "   Date,Transaction Type,Amount,Balance\n",
        "   2024-02-01,Deposit,10000,60000\n",
        "   2024-02-02,Withdrawal,2000,58000\n",
        "   2024-02-03,Deposit,5000,63000\n",
        "   ```\n",
        "2. Save this CSV file correctly.\n"
      ],
      "metadata": {
        "id": "RyK2RXAcj_X1"
      }
    },
    {
      "cell_type": "code",
      "source": [
        "import csv\n",
        "\n",
        "data = [\n",
        "    [\"Date\", \"Transaction Type\", \"Amount\", \"Balance\"],\n",
        "    [\"2024-02-01\", \"Deposit\", 10000, 60000],\n",
        "    [\"2024-02-02\", \"Withdrawal\", 2000, 58000],\n",
        "    [\"2024-02-03\", \"Deposit\", 5000, 63000]\n",
        "]\n",
        "\n",
        "with open(\"transactions.csv\", \"w\", newline=\"\") as file:\n",
        "    writer = csv.writer(file)\n",
        "    writer.writerows(data)\n",
        "\n",
        "print(\"CSV file created successfully!\")\n"
      ],
      "metadata": {
        "colab": {
          "base_uri": "https://localhost:8080/"
        },
        "id": "6iFdCLzDkhka",
        "outputId": "d511b89d-2b06-4c71-cde8-7b0a843d169d"
      },
      "execution_count": 21,
      "outputs": [
        {
          "output_type": "stream",
          "name": "stdout",
          "text": [
            "CSV file created successfully!\n"
          ]
        }
      ]
    },
    {
      "cell_type": "markdown",
      "source": [
        "### **📝 Task 7: Reading a CSV File**\n",
        "#### **🔹 Instructions**\n",
        "1. Open and read the `transactions.csv` file.\n",
        "2. Print each row separately.\n"
      ],
      "metadata": {
        "id": "EGTT7kyXkCEw"
      }
    },
    {
      "cell_type": "code",
      "source": [
        "import csv\n",
        "\n",
        "with open(\"transactions.csv\", \"r\") as file:\n",
        "    reader = csv.reader(file)\n",
        "    for row in reader:\n",
        "        print(row)"
      ],
      "metadata": {
        "colab": {
          "base_uri": "https://localhost:8080/"
        },
        "id": "b5oQeRLZkkzL",
        "outputId": "74ecb022-4cd9-4ded-d4f5-0d190223553a"
      },
      "execution_count": 22,
      "outputs": [
        {
          "output_type": "stream",
          "name": "stdout",
          "text": [
            "['Date', 'Transaction Type', 'Amount', 'Balance']\n",
            "['2024-02-01', 'Deposit', '10000', '60000']\n",
            "['2024-02-02', 'Withdrawal', '2000', '58000']\n",
            "['2024-02-03', 'Deposit', '5000', '63000']\n"
          ]
        }
      ]
    },
    {
      "cell_type": "markdown",
      "source": [
        "### **📝 Task 8: Writing to a CSV File**\n",
        "#### **🔹 Instructions**\n",
        "1. Modify the code to write additional transactions to the CSV file.\n",
        "```csv\n",
        "2024-02-04, Deposit, 7000, 70000\n",
        "2024-02-05, Withdrawal, 3000, 67000\n",
        "```"
      ],
      "metadata": {
        "id": "1hR4pGZ5kGzV"
      }
    },
    {
      "cell_type": "code",
      "source": [
        "\n",
        "import csv\n",
        "\n",
        "new_data = [\n",
        "    [\"2024-02-04\", \"Deposit\", 7000, 70000],\n",
        "    [\"2024-02-05\", \"Withdrawal\", 3000, 67000]\n",
        "]\n",
        "\n",
        "with open(\"transactions.csv\", \"a\", newline=\"\") as file:\n",
        "    writer = csv.writer(file)\n",
        "    writer.writerows(new_data)\n",
        "\n",
        "print(\"New transactions added to csv file!\")\n"
      ],
      "metadata": {
        "colab": {
          "base_uri": "https://localhost:8080/"
        },
        "id": "jfQCCwerknn_",
        "outputId": "e2788fdd-b111-4aaa-89af-72f7999289ed"
      },
      "execution_count": 24,
      "outputs": [
        {
          "output_type": "stream",
          "name": "stdout",
          "text": [
            "New transactions added to csv file!\n"
          ]
        }
      ]
    },
    {
      "cell_type": "markdown",
      "source": [
        "\n",
        "### **📝 Task 9: Reading a CSV with Pandas**\n",
        "#### **🔹 Instructions**\n",
        "1. Load `transactions.csv` into a Pandas DataFrame.\n",
        "2. Display the first 5 rows.\n"
      ],
      "metadata": {
        "id": "1nCprf7DkK1-"
      }
    },
    {
      "cell_type": "code",
      "source": [
        "\n",
        "import pandas as panda\n",
        "\n",
        "df = panda.read_csv(\"transactions.csv\")\n",
        "print(df.head(5))"
      ],
      "metadata": {
        "colab": {
          "base_uri": "https://localhost:8080/"
        },
        "id": "eCXPpZBikrVs",
        "outputId": "6735bcce-3c5a-40b2-fbf5-ddcbc7456346"
      },
      "execution_count": 26,
      "outputs": [
        {
          "output_type": "stream",
          "name": "stdout",
          "text": [
            "         Date Transaction Type  Amount  Balance\n",
            "0  2024-02-01          Deposit   10000    60000\n",
            "1  2024-02-02       Withdrawal    2000    58000\n",
            "2  2024-02-03          Deposit    5000    63000\n",
            "3  2024-02-04          Deposit    7000    70000\n",
            "4  2024-02-05       Withdrawal    3000    67000\n"
          ]
        }
      ]
    },
    {
      "cell_type": "markdown",
      "source": [
        "\n",
        "### **📝 Bonus Task: Basic Data Operations with Pandas**\n",
        "#### **🔹 Instructions**\n",
        "1. Count the number of deposits and withdrawals.\n",
        "2. Display only transactions of type \"Deposit\".\n",
        "\n"
      ],
      "metadata": {
        "id": "FBezWiNEjIVG"
      }
    },
    {
      "cell_type": "code",
      "source": [
        "import pandas as panda\n",
        "\n",
        "df = panda.read_csv(\"transactions.csv\")\n",
        "print(df[\"Transaction Type\"].value_counts())\n",
        "print(df[df[\"Transaction Type\"]== \"Deposit\"])"
      ],
      "metadata": {
        "colab": {
          "base_uri": "https://localhost:8080/"
        },
        "id": "syMv8c5Hkwx3",
        "outputId": "156191f1-4cf5-4ed0-c72e-826d4eaa9e84"
      },
      "execution_count": 27,
      "outputs": [
        {
          "output_type": "stream",
          "name": "stdout",
          "text": [
            "Transaction Type\n",
            "Deposit       4\n",
            "Withdrawal    3\n",
            "Name: count, dtype: int64\n",
            "         Date Transaction Type  Amount  Balance\n",
            "0  2024-02-01          Deposit   10000    60000\n",
            "2  2024-02-03          Deposit    5000    63000\n",
            "3  2024-02-04          Deposit    7000    70000\n",
            "5  2024-02-04          Deposit    7000    70000\n"
          ]
        }
      ]
    },
    {
      "cell_type": "markdown",
      "source": [
        "#**Submit your file**"
      ],
      "metadata": {
        "id": "jo0GyqaZm1F_"
      }
    }
  ]
}