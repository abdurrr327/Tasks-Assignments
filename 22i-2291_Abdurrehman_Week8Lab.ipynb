{
  "nbformat": 4,
  "nbformat_minor": 0,
  "metadata": {
    "colab": {
      "provenance": []
    },
    "kernelspec": {
      "name": "python3",
      "display_name": "Python 3"
    },
    "language_info": {
      "name": "python"
    }
  },
  "cells": [
    {
      "cell_type": "markdown",
      "source": [
        "# **Week 8 Lab: Exception Handling in Python**\n",
        "\n",
        "### **Objective:**\n",
        "\n",
        "This lab session will help students understand and apply exception handling in Python through practical tasks. By the end of the session, students should be able to:\n",
        "\n",
        "- Identify and handle common exceptions.\n",
        "- Implement `try-except` blocks effectively.\n",
        "- Use `finally` and `else` clauses.\n",
        "- Raise and handle specific exceptions.\n",
        "- Apply exception handling in real-world financial applications.\n",
        "\n",
        "---\n",
        "\n",
        "### **Lab Structure:**\n",
        "\n",
        "**Duration:** 2 Hours  \n",
        "**Tasks:** 7  \n",
        "**Assessment:** Each task will be graded based on correctness and efficiency.\n",
        "\n",
        "---\n",
        "\n",
        "## **Task 1: Identifying Common Exceptions**\n",
        "\n",
        "**Objective:** Learn to recognize and handle common Python exceptions.\n",
        "\n",
        "🔹 **Instructions:**\n",
        "\n",
        "1. Write a Python program that performs the following operations:\n",
        "   - Divides a number by zero.\n",
        "   - Tries to access a variable that has not been defined.\n",
        "   - Attempts to convert an invalid string (`\"abc\"`) to an integer.\n",
        "   - Tries to access a dictionary key that does not exist.\n",
        "2. Use `try-except` blocks to handle each of these errors.\n",
        "3. Display a user-friendly message explaining the error when an exception occurs.\n",
        "\n",
        "\n",
        "\n",
        "\n",
        "\n",
        "\n",
        "\n",
        "\n",
        "\n",
        "\n",
        "\n"
      ],
      "metadata": {
        "id": "FP5OIpTNiJv3"
      }
    },
    {
      "cell_type": "code",
      "source": [
        "def handle_exceptions():\n",
        "\n",
        "    try: 10 / 0\n",
        "    except ZeroDivisionError: print(\" Error: Cannot divide by zero!\")\n",
        "\n",
        "    try: print(undefined_variable)\n",
        "    except NameError: print(\"Error: Variable is not defined.\")\n",
        "\n",
        "    try: int(\"abc\")\n",
        "    except ValueError: print(\"Error: Invalid literal for integer conversion.\")\n",
        "\n",
        "    my_dict = {\"a\": 1, \"b\": 2}\n",
        "    try: print(my_dict[\"c\"])\n",
        "    except KeyError: print(\"Error: Key not found.\")\n",
        "\n",
        "handle_exceptions()"
      ],
      "metadata": {
        "id": "mB49nrcJjgAt",
        "outputId": "586dc94b-f955-4ced-8049-92cd0699668f",
        "colab": {
          "base_uri": "https://localhost:8080/"
        }
      },
      "execution_count": null,
      "outputs": [
        {
          "output_type": "stream",
          "name": "stdout",
          "text": [
            " Error: Cannot divide by zero!\n",
            "Error: Variable is not defined.\n",
            "Error: Invalid literal for integer conversion.\n",
            "Error: Key not found.\n"
          ]
        }
      ]
    },
    {
      "cell_type": "markdown",
      "source": [
        "## **Task 2: Using `try-except-else-finally`**\n",
        "\n",
        "**Objective:** Learn to use complete exception handling structures.\n",
        "\n",
        "**Instructions:**\n",
        "\n",
        "1. Write a Python function that:\n",
        "   - Asks the user to enter two numbers.\n",
        "   - Attempts to divide the first number by the second.\n",
        "   - Uses `try-except` to handle errors such as division by zero and invalid inputs.\n",
        "   - Uses `else` to display the result if no error occurs.\n",
        "   - Uses `finally` to print a message indicating that execution is complete."
      ],
      "metadata": {
        "id": "psq_lx4yjWeu"
      }
    },
    {
      "cell_type": "code",
      "source": [
        "try:\n",
        "    num1 = int(input(\"Enter a number 1: \"))\n",
        "    num2 = int(input(\"Enter a number 2: \"))\n",
        "    result = num1 / num2\n",
        "except ZeroDivisionError:\n",
        "    print(\" Error: Cannot divide by zero!\")\n",
        "except ValueError:\n",
        "    print(\" Error: Invalid input! Please enter a number.\")\n",
        "else:\n",
        "    print(f\"Division successful! Result: {result}\")\n",
        "finally:\n",
        "    print(\"Execution completed.\")"
      ],
      "metadata": {
        "id": "qz7VowtNjOrG",
        "outputId": "d5b8aecf-047a-4dfa-ed83-ab96c874c78d",
        "colab": {
          "base_uri": "https://localhost:8080/"
        }
      },
      "execution_count": null,
      "outputs": [
        {
          "output_type": "stream",
          "name": "stdout",
          "text": [
            "Enter a number 1: 34\n",
            "Enter a number 2: 44\n",
            " Division successful! Result: 0.7727272727272727\n",
            " Execution completed.\n"
          ]
        }
      ]
    },
    {
      "cell_type": "markdown",
      "source": [
        "## **Task 3: Handling Nested Exceptions**\n",
        "\n",
        "**Objective:** Handle exceptions using nested `try-except` blocks.\n",
        "\n",
        "**Instructions:**\n",
        "\n",
        "1. Write a Python function that:\n",
        "   - Asks the user to enter a filename.\n",
        "   - Tries to open the file for reading.\n",
        "   - Asks the user to enter a number and divides 100 by that number.\n",
        "2. Implement nested `try-except` blocks to handle both `FileNotFoundError` (if the file is missing) and `ZeroDivisionError` (if division by zero occurs).\n",
        "3. Display appropriate error messages and ensure the program completes execution."
      ],
      "metadata": {
        "id": "Hb9LysAkjF1A"
      }
    },
    {
      "cell_type": "code",
      "source": [
        "def handle_nested_exceptions():\n",
        "    filename = input(\"Enter filename: \")\n",
        "    try:\n",
        "        file = open(filename, \"r\")\n",
        "        try:\n",
        "            num = int(input(\"Enter a number: \"))\n",
        "            result = 100 / num\n",
        "            print(result)\n",
        "        except ValueError:\n",
        "            print(\"Invalid number input.\")\n",
        "        except ZeroDivisionError:\n",
        "            print(\"Cannot divide by zero.\")\n",
        "        file.close()\n",
        "    except FileNotFoundError:\n",
        "        print(\"File not found.\")\n",
        "\n",
        "handle_nested_exceptions()"
      ],
      "metadata": {
        "id": "Z0QV5Z0fjDNc",
        "outputId": "a551fbf7-43fe-4d5e-dcd8-063723e586f0",
        "colab": {
          "base_uri": "https://localhost:8080/"
        }
      },
      "execution_count": null,
      "outputs": [
        {
          "output_type": "stream",
          "name": "stdout",
          "text": [
            "Enter filename: handle_nested_exceptions\n",
            "File not found.\n"
          ]
        }
      ]
    },
    {
      "cell_type": "markdown",
      "source": [
        "## **Task 4: Exception Handling in Financial Calculations**\n",
        "\n",
        "**Objective:** Implement exception handling in financial calculations.\n",
        "\n",
        "**Instructions:**\n",
        "\n",
        "1. Create a list of stock prices, some of which include zero or non-numeric values.\n",
        "2. Attempt to calculate the percentage change between consecutive prices.\n",
        "3. Handle errors caused by division by zero and invalid data types.\n",
        "4. Ensure that the program continues running even when errors occur."
      ],
      "metadata": {
        "id": "ivTzDRFei-SY"
      }
    },
    {
      "cell_type": "code",
      "source": [
        "prices = [10, 12, 0, 15, \"abc\", 18]\n",
        "def financial_calculations(prices):\n",
        "    for i in range(1, len(prices)):\n",
        "        try:\n",
        "            change = (prices[i] - prices[i - 1]) / prices[i - 1] * 100\n",
        "            print(f\"Percentage change: {change:.2f}%\")\n",
        "        except (ZeroDivisionError, TypeError):\n",
        "            print(\"Error calculating percentage change.\")\n",
        "\n",
        "financial_calculations(prices)\n"
      ],
      "metadata": {
        "id": "jFhlAGldi49s",
        "outputId": "a13c0949-9363-4632-eb53-a43433e666de",
        "colab": {
          "base_uri": "https://localhost:8080/"
        }
      },
      "execution_count": null,
      "outputs": [
        {
          "output_type": "stream",
          "name": "stdout",
          "text": [
            "Percentage change: 20.00%\n",
            "Percentage change: -100.00%\n",
            "Error calculating percentage change.\n",
            "Error calculating percentage change.\n",
            "Error calculating percentage change.\n"
          ]
        }
      ]
    },
    {
      "cell_type": "markdown",
      "source": [
        "## **Task 5: Exception Handling in File Operations**\n",
        "\n",
        "**Objective:** Learn to handle file-related errors.\n",
        "\n",
        "**Instructions:**\n",
        "\n",
        "1. Ask the user for a filename.\n",
        "2. Try to open and read the file.\n",
        "3. Handle `FileNotFoundError` if the file does not exist.\n",
        "4. Use `finally` to print a completion message."
      ],
      "metadata": {
        "id": "DEQZUxY8iugd"
      }
    },
    {
      "cell_type": "code",
      "source": [
        "def file_operations():\n",
        "    filename = input(\"Enter a filename: \")\n",
        "    try:\n",
        "        file = open(filename, \"r\")\n",
        "        content = file.read()\n",
        "        print(content)\n",
        "        file.close()\n",
        "    except FileNotFoundError:\n",
        "        print(\"Error: File not found.\")\n",
        "    finally:\n",
        "        print(\"File operation completed.\")\n",
        "\n",
        "file_operations()"
      ],
      "metadata": {
        "id": "QAkka23_ir6H",
        "colab": {
          "base_uri": "https://localhost:8080/"
        },
        "outputId": "21d592b4-a823-416d-a5c2-6dd2f9a3733a"
      },
      "execution_count": 15,
      "outputs": [
        {
          "output_type": "stream",
          "name": "stdout",
          "text": [
            "Enter a filename: file\n",
            "Error: File not found.\n",
            "File operation completed.\n"
          ]
        }
      ]
    },
    {
      "cell_type": "markdown",
      "source": [
        "## **Task 6: Raising Custom Exceptions Without Classes**\n",
        "\n",
        "**Objective:** Learn to raise and handle specific exceptions.\n",
        "\n",
        "**Instructions:**\n",
        "\n",
        "1. Write a function that checks if a number is negative.\n",
        "2. If the number is negative, raise a `ValueError`.\n",
        "3. Handle the exception with an appropriate message."
      ],
      "metadata": {
        "id": "WyhcCwlhicUl"
      }
    },
    {
      "cell_type": "code",
      "execution_count": 10,
      "metadata": {
        "id": "ySZnVpRhiGiH",
        "outputId": "f5844e2b-6a39-499c-cebc-e36be3e418ca",
        "colab": {
          "base_uri": "https://localhost:8080/"
        }
      },
      "outputs": [
        {
          "output_type": "stream",
          "name": "stdout",
          "text": [
            "Enter a number: -2\n",
            "Error: Number is negative\n"
          ]
        }
      ],
      "source": [
        "def checknegnumber():\n",
        "    try:\n",
        "        number = float(input(\"Enter a number: \"))\n",
        "        if number < 0:\n",
        "            raise ValueError(\"Error: Number is negative\")\n",
        "        print(\"Number is positive or zero\")\n",
        "    except ValueError as error_message:\n",
        "        print(error_message)\n",
        "\n",
        "checknegnumber()\n"
      ]
    },
    {
      "cell_type": "markdown",
      "source": [
        "## **Task 7: Loan Eligibility Check with Exception Handling**  \n",
        "**Objective:** Implement exception handling in a financial scenario to determine loan eligibility.  \n",
        "\n",
        "**Instructions:**  \n",
        "1. Ask the user to enter:  \n",
        "   - Their **age** (must be an integer and ≥ 18).  \n",
        "   - Their **monthly income** (must be a positive number).  \n",
        "   - Their **loan amount requested** (must not exceed 10 times their income).  \n",
        "2. Use `try-except` to handle the following errors:  \n",
        "   - If age is less than 18, raise a **ValueError**.  \n",
        "   - If income or loan amount is invalid (negative or zero), raise a **ValueError**.  \n",
        "   - If the loan amount is too high (more than 10 times the income), raise a **custom exception** with a relevant message.  \n",
        "3. Print a message indicating whether the loan is **approved** or **denied**.  \n"
      ],
      "metadata": {
        "id": "sdoCtY_ymIVf"
      }
    },
    {
      "cell_type": "code",
      "source": [
        "def check_loan_eligibility():\n",
        "    try:\n",
        "        age = int(input(\"Enter your age: \"))\n",
        "        if age < 18:\n",
        "            raise ValueError(\"Error: You must be 18 or older.\")\n",
        "        income = float(input(\"Enter your monthly income: \"))\n",
        "        if income <= 0:\n",
        "            raise ValueError(\"Error: Income must be a positive number.\")\n",
        "        loan_amount = float(input(\"Enter the loan amount requested: \"))\n",
        "        if loan_amount <= 0:\n",
        "            raise ValueError(\"Error: Loan amount must be a positive number.\")\n",
        "        if loan_amount > 10 * income:\n",
        "            raise Exception(\"Error: Loan amount exceeds 10 times your monthly income.\")\n",
        "        print(\"Loan approved!\")\n",
        "    except ValueError as ve:\n",
        "        print(ve)\n",
        "    except Exception as e:\n",
        "        print(e)\n",
        "\n",
        "check_loan_eligibility()"
      ],
      "metadata": {
        "id": "vc-LGFN7mIEt",
        "colab": {
          "base_uri": "https://localhost:8080/"
        },
        "outputId": "74c2b9e1-b4f9-4432-dfcb-f75a25a58bb3"
      },
      "execution_count": 6,
      "outputs": [
        {
          "output_type": "stream",
          "name": "stdout",
          "text": [
            "Enter your age: 21\n",
            "Enter your monthly income: 13444\n",
            "Enter the loan amount requested: 2000\n",
            "Loan approved!\n"
          ]
        }
      ]
    }
  ]
}